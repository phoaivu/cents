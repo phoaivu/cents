{
 "cells": [
  {
   "cell_type": "markdown",
   "id": "44249f5e",
   "metadata": {},
   "source": [
    "Coins: a Primer on Currency\n",
    "==="
   ]
  },
  {
   "cell_type": "markdown",
   "id": "07d75b87",
   "metadata": {},
   "source": [
    "I've always been curious: who created the coins?\n",
    "\n",
    "Human are more proficient with decimal numbers, instead of, say, binary or hexadecimal, that much is understandable. Just look at the number of fingers and toes you have. Then it is natural to have a 5-cent coin and a 1-cent coin.\n",
    "\n",
    "But where do the rest come from?\n",
    "\n",
    "Who decided that we don't need 3-cent, 4-cent, 7-cent coins, etc...? Even a two-cent coin is not strictly required. In the United States, for instance, they don't weigh in their [two-cents](https://www.urbandictionary.com/define.php?term=2%20cents).\n",
    "\n",
    "From 1 to 100 cents, here is what economies around the world have created:\n",
    "\n",
    "- [States](https://en.wikipedia.org/wiki/Coins_of_the_United_States_dollar): 1, 5, 10, 25, 50\n",
    "- [Europe](https://en.wikipedia.org/wiki/Euro_coins): 1, 2, 5, 10, 20, 50\n",
    "- Arbitrarily, one might want to have: 1, 5, 10, 20, 50.\n",
    "\n",
    "Over 1 dollar, you would have the same series of numbers repeated again, so let's restrict ourselves to the sub-dollar coins.\n",
    "\n",
    "Naturally, the question is: which system is more efficient? Specifically, assume that you have an amount less than 100 cents to pay, and you still have the privilege to pay with coins, then what is the minimum number of coins you have to pay, in each system?\n",
    "\n",
    "Whoever added the quarter (25-cent) coin in the US could be pretty proud. When you have to pay 25 cents, but you don't have the exact 25-cent coin, in the US, you would need 3 coins: 10 + 10 + 5 = 25 cents. In Europe, you need only two: 20 + 5 = 25 cents.\n",
    "\n",
    "When you need to pay 75 cents though, American needs a minimum of two coins: 50 + 25 = 75 cents, while a European needs at least 3.\n",
    "\n",
    "How does this generalize? Over the whole spectrum of amounts from 1 to 99 cents, which one is more economically efficient? You might have noticed that, sub-dollar, there are 5 types of coins in the US, while Europe has 6. How does this effect the minimum number of coins you need for a given amount?\n",
    "\n",
    "With a little piece of code, let's work this out. I may not be qualified for a Nobel for this, but I got your attention."
   ]
  },
  {
   "cell_type": "markdown",
   "id": "065f54e9",
   "metadata": {},
   "source": [
    "Problem Statement\n",
    "---\n",
    "\n",
    "The first question is: given an amount less than 100 cents, how many ways are there to pay, in each of the systems mentioned above?\n",
    "\n",
    "We will assume there is an indefinite amount of coins for each type. This usually doesn't hold in practice for a specific consumer, but from the perspective of the people who design the system, it sounds reasonable.\n",
    "\n",
    "Doing this is not difficult, here is a recursive implementation:"
   ]
  },
  {
   "cell_type": "code",
   "execution_count": 1,
   "id": "55116156",
   "metadata": {},
   "outputs": [],
   "source": [
    "def cents(values, amount, solutions):\n",
    "    if amount == 0:\n",
    "        solutions.append([0] * len(values))\n",
    "    elif len(values) == 1:\n",
    "        max_cnt = amount // values[0]\n",
    "        if amount == max_cnt * values[0]:\n",
    "            solutions.append([max_cnt])\n",
    "    else:\n",
    "        max_cnt = amount // values[0]\n",
    "        for i in range(max_cnt, -1, -1):\n",
    "            remaining = amount - (values[0] * i)\n",
    "            sub_solutions = []\n",
    "            cents(values[1:], remaining, sub_solutions)\n",
    "            if len(sub_solutions) > 0:\n",
    "                for s in sub_solutions:\n",
    "                    solutions.append([i] + s)"
   ]
  },
  {
   "cell_type": "markdown",
   "id": "5ca8faa4",
   "metadata": {},
   "source": [
    "The diffrent ways to pay for 31 cents in the US is:"
   ]
  },
  {
   "cell_type": "code",
   "execution_count": 9,
   "id": "639b13db",
   "metadata": {},
   "outputs": [
    {
     "name": "stdout",
     "output_type": "stream",
     "text": [
      "18 ways to pay\n",
      "The most economical way is: [0, 1, 0, 1, 1]\n"
     ]
    },
    {
     "data": {
      "text/plain": [
       "[[0, 1, 0, 1, 1],\n",
       " [0, 1, 0, 0, 6],\n",
       " [0, 0, 3, 0, 1],\n",
       " [0, 0, 2, 2, 1],\n",
       " [0, 0, 2, 1, 6],\n",
       " [0, 0, 2, 0, 11],\n",
       " [0, 0, 1, 4, 1],\n",
       " [0, 0, 1, 3, 6],\n",
       " [0, 0, 1, 2, 11],\n",
       " [0, 0, 1, 1, 16],\n",
       " [0, 0, 1, 0, 21],\n",
       " [0, 0, 0, 6, 1],\n",
       " [0, 0, 0, 5, 6],\n",
       " [0, 0, 0, 4, 11],\n",
       " [0, 0, 0, 3, 16],\n",
       " [0, 0, 0, 2, 21],\n",
       " [0, 0, 0, 1, 26],\n",
       " [0, 0, 0, 0, 31]]"
      ]
     },
     "execution_count": 9,
     "metadata": {},
     "output_type": "execute_result"
    }
   ],
   "source": [
    "# Intentionally descendantly sorted. May save a few iterations.\n",
    "us_coins = [50, 25, 10, 5, 1]\n",
    "\n",
    "solutions = []\n",
    "cents(us_coins, 31, solutions)\n",
    "counts = [sum(_) for _ in solutions]\n",
    "\n",
    "# Don't mind me. This is a non-Numpy implementation. No sorted() too.\n",
    "import functools\n",
    "mininum_coin = functools.reduce(lambda a, b: a if a[0] < b[0] else b, zip(counts, solutions))[1]\n",
    "\n",
    "print('{} ways to pay'.format(len(solutions)))\n",
    "print('The most economical way is: {}'.format(mininum_coin))\n",
    "solutions"
   ]
  },
  {
   "cell_type": "markdown",
   "id": "02399842",
   "metadata": {},
   "source": [
    "The most economical way to pay 31 cents is with 3 coins: 25 + 5 + 1.\n",
    "\n",
    "In Europe:"
   ]
  },
  {
   "cell_type": "code",
   "execution_count": 11,
   "id": "b2b3b671",
   "metadata": {},
   "outputs": [
    {
     "name": "stdout",
     "output_type": "stream",
     "text": [
      "116 ways to pay\n",
      "The most economical way is: [0, 1, 1, 0, 0, 1]\n"
     ]
    }
   ],
   "source": [
    "eu_coins = [50, 20, 10, 5, 2, 1]\n",
    "\n",
    "solutions = []\n",
    "cents(eu_coins, 31, solutions)\n",
    "counts = [sum(_) for _ in solutions]\n",
    "\n",
    "mininum_coin = functools.reduce(lambda a, b: a if a[0] < b[0] else b, zip(counts, solutions))[1]\n",
    "\n",
    "print('{} ways to pay'.format(len(solutions)))\n",
    "print('The most economical way is: {}'.format(mininum_coin))"
   ]
  },
  {
   "cell_type": "markdown",
   "id": "71a04b9d",
   "metadata": {},
   "source": [
    "Unsurprisingly, 20 + 10 + 1 = 31 cents, but Europeans have way more ways to pay.\n",
    "\n",
    "You might have noticed how a little functional programming was used. For the sake of doing this, here is a one-liner functional implementation of the same `cents()` function."
   ]
  },
  {
   "cell_type": "code",
   "execution_count": 13,
   "id": "a55ae7ed",
   "metadata": {},
   "outputs": [],
   "source": [
    "import itertools\n",
    "\n",
    "cents2 = lambda values, amount: list(filter(lambda e: e[1] == amount, map(\n",
    "    lambda l: (l, sum(map(lambda b: b[0] * b[1], zip(l, values)))), \n",
    "    itertools.product(*map(lambda x: list(range(1 + (amount // x))), values)))))\n",
    "\n",
    "# Or, more efficiently\n",
    "cents2 = lambda values, amount: list(filter(lambda l: sum(map(lambda b: b[0] * b[1], zip(l, values))) == amount,\n",
    "                       itertools.product(*map(lambda x: list(range(1 + (amount // x))), values))))"
   ]
  },
  {
   "cell_type": "markdown",
   "id": "b98fd918",
   "metadata": {},
   "source": [
    "We are all set for the fun part: how does that generalize to every amount, from 1 to 99 cents?\n",
    "\n",
    "Over the spectrum\n",
    "---"
   ]
  },
  {
   "cell_type": "code",
   "execution_count": 14,
   "id": "8c2903f0",
   "metadata": {},
   "outputs": [],
   "source": [
    "coins = [('EU', [50, 20, 10, 5, 2, 1]), ('US', [50, 25, 10, 5, 1]), ('Another', [50, 20, 10, 5, 1])]\n",
    "ways = {'EU': [], 'US': [], 'Another': []}\n",
    "min_way = {'EU': [], 'US': [], 'Another': []}\n",
    "avg_way = {'EU': [], 'US': [], 'Another': []}\n",
    "\n",
    "for amount in range(1, 100):\n",
    "    for lb, vals in coins:\n",
    "        s = []\n",
    "        cents(vals, amount, s)\n",
    "        counts = [sum(a) for a in s]\n",
    "        \n",
    "        # changed_min_cnt = min(counts) if 1 not in counts else min(filter(lambda _: _ != 1, counts), default=1)\n",
    "        # median: sorted(counts)[ways // 2]\n",
    "        ways[lb].append(len(counts))\n",
    "        min_way[lb].append(min(counts))\n",
    "        avg_way[lb].append(float(sum(counts)) / len(counts))"
   ]
  },
  {
   "cell_type": "code",
   "execution_count": 46,
   "id": "78d916f9",
   "metadata": {},
   "outputs": [
    {
     "data": {
      "text/html": [
       "\n",
       "    <div class=\"bk-root\">\n",
       "        <a href=\"https://bokeh.org\" target=\"_blank\" class=\"bk-logo bk-logo-small bk-logo-notebook\"></a>\n",
       "        <span id=\"6199\">Loading BokehJS ...</span>\n",
       "    </div>"
      ]
     },
     "metadata": {},
     "output_type": "display_data"
    },
    {
     "data": {
      "application/javascript": [
       "\n",
       "(function(root) {\n",
       "  function now() {\n",
       "    return new Date();\n",
       "  }\n",
       "\n",
       "  var force = true;\n",
       "\n",
       "  if (typeof root._bokeh_onload_callbacks === \"undefined\" || force === true) {\n",
       "    root._bokeh_onload_callbacks = [];\n",
       "    root._bokeh_is_loading = undefined;\n",
       "  }\n",
       "\n",
       "  var JS_MIME_TYPE = 'application/javascript';\n",
       "  var HTML_MIME_TYPE = 'text/html';\n",
       "  var EXEC_MIME_TYPE = 'application/vnd.bokehjs_exec.v0+json';\n",
       "  var CLASS_NAME = 'output_bokeh rendered_html';\n",
       "\n",
       "  /**\n",
       "   * Render data to the DOM node\n",
       "   */\n",
       "  function render(props, node) {\n",
       "    var script = document.createElement(\"script\");\n",
       "    node.appendChild(script);\n",
       "  }\n",
       "\n",
       "  /**\n",
       "   * Handle when an output is cleared or removed\n",
       "   */\n",
       "  function handleClearOutput(event, handle) {\n",
       "    var cell = handle.cell;\n",
       "\n",
       "    var id = cell.output_area._bokeh_element_id;\n",
       "    var server_id = cell.output_area._bokeh_server_id;\n",
       "    // Clean up Bokeh references\n",
       "    if (id != null && id in Bokeh.index) {\n",
       "      Bokeh.index[id].model.document.clear();\n",
       "      delete Bokeh.index[id];\n",
       "    }\n",
       "\n",
       "    if (server_id !== undefined) {\n",
       "      // Clean up Bokeh references\n",
       "      var cmd = \"from bokeh.io.state import curstate; print(curstate().uuid_to_server['\" + server_id + \"'].get_sessions()[0].document.roots[0]._id)\";\n",
       "      cell.notebook.kernel.execute(cmd, {\n",
       "        iopub: {\n",
       "          output: function(msg) {\n",
       "            var id = msg.content.text.trim();\n",
       "            if (id in Bokeh.index) {\n",
       "              Bokeh.index[id].model.document.clear();\n",
       "              delete Bokeh.index[id];\n",
       "            }\n",
       "          }\n",
       "        }\n",
       "      });\n",
       "      // Destroy server and session\n",
       "      var cmd = \"import bokeh.io.notebook as ion; ion.destroy_server('\" + server_id + \"')\";\n",
       "      cell.notebook.kernel.execute(cmd);\n",
       "    }\n",
       "  }\n",
       "\n",
       "  /**\n",
       "   * Handle when a new output is added\n",
       "   */\n",
       "  function handleAddOutput(event, handle) {\n",
       "    var output_area = handle.output_area;\n",
       "    var output = handle.output;\n",
       "\n",
       "    // limit handleAddOutput to display_data with EXEC_MIME_TYPE content only\n",
       "    if ((output.output_type != \"display_data\") || (!Object.prototype.hasOwnProperty.call(output.data, EXEC_MIME_TYPE))) {\n",
       "      return\n",
       "    }\n",
       "\n",
       "    var toinsert = output_area.element.find(\".\" + CLASS_NAME.split(' ')[0]);\n",
       "\n",
       "    if (output.metadata[EXEC_MIME_TYPE][\"id\"] !== undefined) {\n",
       "      toinsert[toinsert.length - 1].firstChild.textContent = output.data[JS_MIME_TYPE];\n",
       "      // store reference to embed id on output_area\n",
       "      output_area._bokeh_element_id = output.metadata[EXEC_MIME_TYPE][\"id\"];\n",
       "    }\n",
       "    if (output.metadata[EXEC_MIME_TYPE][\"server_id\"] !== undefined) {\n",
       "      var bk_div = document.createElement(\"div\");\n",
       "      bk_div.innerHTML = output.data[HTML_MIME_TYPE];\n",
       "      var script_attrs = bk_div.children[0].attributes;\n",
       "      for (var i = 0; i < script_attrs.length; i++) {\n",
       "        toinsert[toinsert.length - 1].firstChild.setAttribute(script_attrs[i].name, script_attrs[i].value);\n",
       "        toinsert[toinsert.length - 1].firstChild.textContent = bk_div.children[0].textContent\n",
       "      }\n",
       "      // store reference to server id on output_area\n",
       "      output_area._bokeh_server_id = output.metadata[EXEC_MIME_TYPE][\"server_id\"];\n",
       "    }\n",
       "  }\n",
       "\n",
       "  function register_renderer(events, OutputArea) {\n",
       "\n",
       "    function append_mime(data, metadata, element) {\n",
       "      // create a DOM node to render to\n",
       "      var toinsert = this.create_output_subarea(\n",
       "        metadata,\n",
       "        CLASS_NAME,\n",
       "        EXEC_MIME_TYPE\n",
       "      );\n",
       "      this.keyboard_manager.register_events(toinsert);\n",
       "      // Render to node\n",
       "      var props = {data: data, metadata: metadata[EXEC_MIME_TYPE]};\n",
       "      render(props, toinsert[toinsert.length - 1]);\n",
       "      element.append(toinsert);\n",
       "      return toinsert\n",
       "    }\n",
       "\n",
       "    /* Handle when an output is cleared or removed */\n",
       "    events.on('clear_output.CodeCell', handleClearOutput);\n",
       "    events.on('delete.Cell', handleClearOutput);\n",
       "\n",
       "    /* Handle when a new output is added */\n",
       "    events.on('output_added.OutputArea', handleAddOutput);\n",
       "\n",
       "    /**\n",
       "     * Register the mime type and append_mime function with output_area\n",
       "     */\n",
       "    OutputArea.prototype.register_mime_type(EXEC_MIME_TYPE, append_mime, {\n",
       "      /* Is output safe? */\n",
       "      safe: true,\n",
       "      /* Index of renderer in `output_area.display_order` */\n",
       "      index: 0\n",
       "    });\n",
       "  }\n",
       "\n",
       "  // register the mime type if in Jupyter Notebook environment and previously unregistered\n",
       "  if (root.Jupyter !== undefined) {\n",
       "    var events = require('base/js/events');\n",
       "    var OutputArea = require('notebook/js/outputarea').OutputArea;\n",
       "\n",
       "    if (OutputArea.prototype.mime_types().indexOf(EXEC_MIME_TYPE) == -1) {\n",
       "      register_renderer(events, OutputArea);\n",
       "    }\n",
       "  }\n",
       "\n",
       "  \n",
       "  if (typeof (root._bokeh_timeout) === \"undefined\" || force === true) {\n",
       "    root._bokeh_timeout = Date.now() + 5000;\n",
       "    root._bokeh_failed_load = false;\n",
       "  }\n",
       "\n",
       "  var NB_LOAD_WARNING = {'data': {'text/html':\n",
       "     \"<div style='background-color: #fdd'>\\n\"+\n",
       "     \"<p>\\n\"+\n",
       "     \"BokehJS does not appear to have successfully loaded. If loading BokehJS from CDN, this \\n\"+\n",
       "     \"may be due to a slow or bad network connection. Possible fixes:\\n\"+\n",
       "     \"</p>\\n\"+\n",
       "     \"<ul>\\n\"+\n",
       "     \"<li>re-rerun `output_notebook()` to attempt to load from CDN again, or</li>\\n\"+\n",
       "     \"<li>use INLINE resources instead, as so:</li>\\n\"+\n",
       "     \"</ul>\\n\"+\n",
       "     \"<code>\\n\"+\n",
       "     \"from bokeh.resources import INLINE\\n\"+\n",
       "     \"output_notebook(resources=INLINE)\\n\"+\n",
       "     \"</code>\\n\"+\n",
       "     \"</div>\"}};\n",
       "\n",
       "  function display_loaded() {\n",
       "    var el = document.getElementById(\"6199\");\n",
       "    if (el != null) {\n",
       "      el.textContent = \"BokehJS is loading...\";\n",
       "    }\n",
       "    if (root.Bokeh !== undefined) {\n",
       "      if (el != null) {\n",
       "        el.textContent = \"BokehJS \" + root.Bokeh.version + \" successfully loaded.\";\n",
       "      }\n",
       "    } else if (Date.now() < root._bokeh_timeout) {\n",
       "      setTimeout(display_loaded, 100)\n",
       "    }\n",
       "  }\n",
       "\n",
       "\n",
       "  function run_callbacks() {\n",
       "    try {\n",
       "      root._bokeh_onload_callbacks.forEach(function(callback) {\n",
       "        if (callback != null)\n",
       "          callback();\n",
       "      });\n",
       "    } finally {\n",
       "      delete root._bokeh_onload_callbacks\n",
       "    }\n",
       "    console.debug(\"Bokeh: all callbacks have finished\");\n",
       "  }\n",
       "\n",
       "  function load_libs(css_urls, js_urls, callback) {\n",
       "    if (css_urls == null) css_urls = [];\n",
       "    if (js_urls == null) js_urls = [];\n",
       "\n",
       "    root._bokeh_onload_callbacks.push(callback);\n",
       "    if (root._bokeh_is_loading > 0) {\n",
       "      console.debug(\"Bokeh: BokehJS is being loaded, scheduling callback at\", now());\n",
       "      return null;\n",
       "    }\n",
       "    if (js_urls == null || js_urls.length === 0) {\n",
       "      run_callbacks();\n",
       "      return null;\n",
       "    }\n",
       "    console.debug(\"Bokeh: BokehJS not loaded, scheduling load and callback at\", now());\n",
       "    root._bokeh_is_loading = css_urls.length + js_urls.length;\n",
       "\n",
       "    function on_load() {\n",
       "      root._bokeh_is_loading--;\n",
       "      if (root._bokeh_is_loading === 0) {\n",
       "        console.debug(\"Bokeh: all BokehJS libraries/stylesheets loaded\");\n",
       "        run_callbacks()\n",
       "      }\n",
       "    }\n",
       "\n",
       "    function on_error(url) {\n",
       "      console.error(\"failed to load \" + url);\n",
       "    }\n",
       "\n",
       "    for (let i = 0; i < css_urls.length; i++) {\n",
       "      const url = css_urls[i];\n",
       "      const element = document.createElement(\"link\");\n",
       "      element.onload = on_load;\n",
       "      element.onerror = on_error.bind(null, url);\n",
       "      element.rel = \"stylesheet\";\n",
       "      element.type = \"text/css\";\n",
       "      element.href = url;\n",
       "      console.debug(\"Bokeh: injecting link tag for BokehJS stylesheet: \", url);\n",
       "      document.body.appendChild(element);\n",
       "    }\n",
       "\n",
       "    const hashes = {\"https://cdn.bokeh.org/bokeh/release/bokeh-2.3.3.min.js\": \"dM3QQsP+wXdHg42wTqW85BjZQdLNNIXqlPw/BgKoExPmTG7ZLML4EGqLMfqHT6ON\", \"https://cdn.bokeh.org/bokeh/release/bokeh-tables-2.3.3.min.js\": \"8x57I4YuIfu8XyZfFo0XVr2WAT8EK4rh/uDe3wF7YuW2FNUSNEpJbsPaB1nJ2fz2\", \"https://cdn.bokeh.org/bokeh/release/bokeh-widgets-2.3.3.min.js\": \"3QTqdz9LyAm2i0sG5XTePsHec3UHWwVsrOL68SYRoAXsafvfAyqtQ+h440+qIBhS\"};\n",
       "\n",
       "    for (let i = 0; i < js_urls.length; i++) {\n",
       "      const url = js_urls[i];\n",
       "      const element = document.createElement('script');\n",
       "      element.onload = on_load;\n",
       "      element.onerror = on_error.bind(null, url);\n",
       "      element.async = false;\n",
       "      element.src = url;\n",
       "      if (url in hashes) {\n",
       "        element.crossOrigin = \"anonymous\";\n",
       "        element.integrity = \"sha384-\" + hashes[url];\n",
       "      }\n",
       "      console.debug(\"Bokeh: injecting script tag for BokehJS library: \", url);\n",
       "      document.head.appendChild(element);\n",
       "    }\n",
       "  };\n",
       "\n",
       "  function inject_raw_css(css) {\n",
       "    const element = document.createElement(\"style\");\n",
       "    element.appendChild(document.createTextNode(css));\n",
       "    document.body.appendChild(element);\n",
       "  }\n",
       "\n",
       "  \n",
       "  var js_urls = [\"https://cdn.bokeh.org/bokeh/release/bokeh-2.3.3.min.js\", \"https://cdn.bokeh.org/bokeh/release/bokeh-widgets-2.3.3.min.js\", \"https://cdn.bokeh.org/bokeh/release/bokeh-tables-2.3.3.min.js\"];\n",
       "  var css_urls = [];\n",
       "  \n",
       "\n",
       "  var inline_js = [\n",
       "    function(Bokeh) {\n",
       "      Bokeh.set_log_level(\"info\");\n",
       "    },\n",
       "    function(Bokeh) {\n",
       "    \n",
       "    \n",
       "    }\n",
       "  ];\n",
       "\n",
       "  function run_inline_js() {\n",
       "    \n",
       "    if (root.Bokeh !== undefined || force === true) {\n",
       "      \n",
       "    for (var i = 0; i < inline_js.length; i++) {\n",
       "      inline_js[i].call(root, root.Bokeh);\n",
       "    }\n",
       "    if (force === true) {\n",
       "        display_loaded();\n",
       "      }} else if (Date.now() < root._bokeh_timeout) {\n",
       "      setTimeout(run_inline_js, 100);\n",
       "    } else if (!root._bokeh_failed_load) {\n",
       "      console.log(\"Bokeh: BokehJS failed to load within specified timeout.\");\n",
       "      root._bokeh_failed_load = true;\n",
       "    } else if (force !== true) {\n",
       "      var cell = $(document.getElementById(\"6199\")).parents('.cell').data().cell;\n",
       "      cell.output_area.append_execute_result(NB_LOAD_WARNING)\n",
       "    }\n",
       "\n",
       "  }\n",
       "\n",
       "  if (root._bokeh_is_loading === 0) {\n",
       "    console.debug(\"Bokeh: BokehJS loaded, going straight to plotting\");\n",
       "    run_inline_js();\n",
       "  } else {\n",
       "    load_libs(css_urls, js_urls, function() {\n",
       "      console.debug(\"Bokeh: BokehJS plotting callback run at\", now());\n",
       "      run_inline_js();\n",
       "    });\n",
       "  }\n",
       "}(window));"
      ],
      "application/vnd.bokehjs_load.v0+json": "\n(function(root) {\n  function now() {\n    return new Date();\n  }\n\n  var force = true;\n\n  if (typeof root._bokeh_onload_callbacks === \"undefined\" || force === true) {\n    root._bokeh_onload_callbacks = [];\n    root._bokeh_is_loading = undefined;\n  }\n\n  \n\n  \n  if (typeof (root._bokeh_timeout) === \"undefined\" || force === true) {\n    root._bokeh_timeout = Date.now() + 5000;\n    root._bokeh_failed_load = false;\n  }\n\n  var NB_LOAD_WARNING = {'data': {'text/html':\n     \"<div style='background-color: #fdd'>\\n\"+\n     \"<p>\\n\"+\n     \"BokehJS does not appear to have successfully loaded. If loading BokehJS from CDN, this \\n\"+\n     \"may be due to a slow or bad network connection. Possible fixes:\\n\"+\n     \"</p>\\n\"+\n     \"<ul>\\n\"+\n     \"<li>re-rerun `output_notebook()` to attempt to load from CDN again, or</li>\\n\"+\n     \"<li>use INLINE resources instead, as so:</li>\\n\"+\n     \"</ul>\\n\"+\n     \"<code>\\n\"+\n     \"from bokeh.resources import INLINE\\n\"+\n     \"output_notebook(resources=INLINE)\\n\"+\n     \"</code>\\n\"+\n     \"</div>\"}};\n\n  function display_loaded() {\n    var el = document.getElementById(\"6199\");\n    if (el != null) {\n      el.textContent = \"BokehJS is loading...\";\n    }\n    if (root.Bokeh !== undefined) {\n      if (el != null) {\n        el.textContent = \"BokehJS \" + root.Bokeh.version + \" successfully loaded.\";\n      }\n    } else if (Date.now() < root._bokeh_timeout) {\n      setTimeout(display_loaded, 100)\n    }\n  }\n\n\n  function run_callbacks() {\n    try {\n      root._bokeh_onload_callbacks.forEach(function(callback) {\n        if (callback != null)\n          callback();\n      });\n    } finally {\n      delete root._bokeh_onload_callbacks\n    }\n    console.debug(\"Bokeh: all callbacks have finished\");\n  }\n\n  function load_libs(css_urls, js_urls, callback) {\n    if (css_urls == null) css_urls = [];\n    if (js_urls == null) js_urls = [];\n\n    root._bokeh_onload_callbacks.push(callback);\n    if (root._bokeh_is_loading > 0) {\n      console.debug(\"Bokeh: BokehJS is being loaded, scheduling callback at\", now());\n      return null;\n    }\n    if (js_urls == null || js_urls.length === 0) {\n      run_callbacks();\n      return null;\n    }\n    console.debug(\"Bokeh: BokehJS not loaded, scheduling load and callback at\", now());\n    root._bokeh_is_loading = css_urls.length + js_urls.length;\n\n    function on_load() {\n      root._bokeh_is_loading--;\n      if (root._bokeh_is_loading === 0) {\n        console.debug(\"Bokeh: all BokehJS libraries/stylesheets loaded\");\n        run_callbacks()\n      }\n    }\n\n    function on_error(url) {\n      console.error(\"failed to load \" + url);\n    }\n\n    for (let i = 0; i < css_urls.length; i++) {\n      const url = css_urls[i];\n      const element = document.createElement(\"link\");\n      element.onload = on_load;\n      element.onerror = on_error.bind(null, url);\n      element.rel = \"stylesheet\";\n      element.type = \"text/css\";\n      element.href = url;\n      console.debug(\"Bokeh: injecting link tag for BokehJS stylesheet: \", url);\n      document.body.appendChild(element);\n    }\n\n    const hashes = {\"https://cdn.bokeh.org/bokeh/release/bokeh-2.3.3.min.js\": \"dM3QQsP+wXdHg42wTqW85BjZQdLNNIXqlPw/BgKoExPmTG7ZLML4EGqLMfqHT6ON\", \"https://cdn.bokeh.org/bokeh/release/bokeh-tables-2.3.3.min.js\": \"8x57I4YuIfu8XyZfFo0XVr2WAT8EK4rh/uDe3wF7YuW2FNUSNEpJbsPaB1nJ2fz2\", \"https://cdn.bokeh.org/bokeh/release/bokeh-widgets-2.3.3.min.js\": \"3QTqdz9LyAm2i0sG5XTePsHec3UHWwVsrOL68SYRoAXsafvfAyqtQ+h440+qIBhS\"};\n\n    for (let i = 0; i < js_urls.length; i++) {\n      const url = js_urls[i];\n      const element = document.createElement('script');\n      element.onload = on_load;\n      element.onerror = on_error.bind(null, url);\n      element.async = false;\n      element.src = url;\n      if (url in hashes) {\n        element.crossOrigin = \"anonymous\";\n        element.integrity = \"sha384-\" + hashes[url];\n      }\n      console.debug(\"Bokeh: injecting script tag for BokehJS library: \", url);\n      document.head.appendChild(element);\n    }\n  };\n\n  function inject_raw_css(css) {\n    const element = document.createElement(\"style\");\n    element.appendChild(document.createTextNode(css));\n    document.body.appendChild(element);\n  }\n\n  \n  var js_urls = [\"https://cdn.bokeh.org/bokeh/release/bokeh-2.3.3.min.js\", \"https://cdn.bokeh.org/bokeh/release/bokeh-widgets-2.3.3.min.js\", \"https://cdn.bokeh.org/bokeh/release/bokeh-tables-2.3.3.min.js\"];\n  var css_urls = [];\n  \n\n  var inline_js = [\n    function(Bokeh) {\n      Bokeh.set_log_level(\"info\");\n    },\n    function(Bokeh) {\n    \n    \n    }\n  ];\n\n  function run_inline_js() {\n    \n    if (root.Bokeh !== undefined || force === true) {\n      \n    for (var i = 0; i < inline_js.length; i++) {\n      inline_js[i].call(root, root.Bokeh);\n    }\n    if (force === true) {\n        display_loaded();\n      }} else if (Date.now() < root._bokeh_timeout) {\n      setTimeout(run_inline_js, 100);\n    } else if (!root._bokeh_failed_load) {\n      console.log(\"Bokeh: BokehJS failed to load within specified timeout.\");\n      root._bokeh_failed_load = true;\n    } else if (force !== true) {\n      var cell = $(document.getElementById(\"6199\")).parents('.cell').data().cell;\n      cell.output_area.append_execute_result(NB_LOAD_WARNING)\n    }\n\n  }\n\n  if (root._bokeh_is_loading === 0) {\n    console.debug(\"Bokeh: BokehJS loaded, going straight to plotting\");\n    run_inline_js();\n  } else {\n    load_libs(css_urls, js_urls, function() {\n      console.debug(\"Bokeh: BokehJS plotting callback run at\", now());\n      run_inline_js();\n    });\n  }\n}(window));"
     },
     "metadata": {},
     "output_type": "display_data"
    }
   ],
   "source": [
    "from bokeh.io import output_notebook\n",
    "from bokeh.plotting import figure, show\n",
    "\n",
    "output_notebook()\n",
    "\n",
    "def plot(data, title='', y_range=-1):\n",
    "    x_range = list(range(1, 100))\n",
    "    if y_range == -1:\n",
    "        p = figure(x_range=(1, 100), title=title, height=350, width=950)\n",
    "    else:\n",
    "        p = figure(x_range=(1, 100), y_range=(0, y_range), title=title, height=350, width=950)\n",
    "\n",
    "    lefts = [-0.25, 0, 0.25]\n",
    "    colors = ['#859581', '#718dbf', '#e84d60']\n",
    "    for i, item in enumerate(data.items()):\n",
    "        k, v = item\n",
    "        p.vbar(x=[x + lefts[i] for x in x_range], width=0.25, bottom=0,\n",
    "               top=v, color=colors[i], legend_label=k)\n",
    "\n",
    "    # p.x_range.range_padding = 0.1\n",
    "    p.xgrid.grid_line_color = None\n",
    "    p.legend.location = \"top_left\"\n",
    "    p.legend.orientation = \"horizontal\"\n",
    "\n",
    "    show(p)"
   ]
  },
  {
   "cell_type": "markdown",
   "id": "226b89db",
   "metadata": {},
   "source": [
    "Number of combinations\n",
    "---\n",
    "\n",
    "- With 6 types of coins, Europeans tend to have more ways to pay.\n",
    "- With the same 5 types of coins, Americas, with the quarter coin, has less choices than the system with the 20-cent coin."
   ]
  },
  {
   "cell_type": "code",
   "execution_count": 47,
   "id": "f7e251be",
   "metadata": {},
   "outputs": [
    {
     "data": {
      "text/html": [
       "\n",
       "\n",
       "\n",
       "\n",
       "\n",
       "\n",
       "  <div class=\"bk-root\" id=\"52ca5958-39e8-4669-a32d-82f8999c73a5\" data-root-id=\"6200\"></div>\n"
      ]
     },
     "metadata": {},
     "output_type": "display_data"
    },
    {
     "data": {
      "application/javascript": [
       "(function(root) {\n",
       "  function embed_document(root) {\n",
       "    \n",
       "  var docs_json = {\"7f542df5-d02a-4727-8641-e7e3df51e174\":{\"defs\":[],\"roots\":{\"references\":[{\"attributes\":{\"below\":[{\"id\":\"6211\"}],\"center\":[{\"id\":\"6214\"},{\"id\":\"6218\"},{\"id\":\"6248\"}],\"height\":350,\"left\":[{\"id\":\"6215\"}],\"renderers\":[{\"id\":\"6236\"},{\"id\":\"6253\"},{\"id\":\"6271\"}],\"title\":{\"id\":\"6201\"},\"toolbar\":{\"id\":\"6226\"},\"width\":950,\"x_range\":{\"id\":\"6203\"},\"x_scale\":{\"id\":\"6207\"},\"y_range\":{\"id\":\"6205\"},\"y_scale\":{\"id\":\"6209\"}},\"id\":\"6200\",\"subtype\":\"Figure\",\"type\":\"Plot\"},{\"attributes\":{\"fill_alpha\":{\"value\":0.1},\"fill_color\":{\"value\":\"#718dbf\"},\"line_alpha\":{\"value\":0.1},\"line_color\":{\"value\":\"#718dbf\"},\"top\":{\"field\":\"top\"},\"width\":{\"value\":0.25},\"x\":{\"field\":\"x\"}},\"id\":\"6252\",\"type\":\"VBar\"},{\"attributes\":{},\"id\":\"6246\",\"type\":\"UnionRenderers\"},{\"attributes\":{},\"id\":\"6209\",\"type\":\"LinearScale\"},{\"attributes\":{},\"id\":\"6212\",\"type\":\"BasicTicker\"},{\"attributes\":{},\"id\":\"6247\",\"type\":\"Selection\"},{\"attributes\":{\"items\":[{\"id\":\"6249\"},{\"id\":\"6267\"},{\"id\":\"6287\"}],\"location\":\"top_left\",\"orientation\":\"horizontal\"},\"id\":\"6248\",\"type\":\"Legend\"},{\"attributes\":{\"source\":{\"id\":\"6233\"}},\"id\":\"6237\",\"type\":\"CDSView\"},{\"attributes\":{},\"id\":\"6222\",\"type\":\"SaveTool\"},{\"attributes\":{},\"id\":\"6241\",\"type\":\"AllLabels\"},{\"attributes\":{\"label\":{\"value\":\"EU\"},\"renderers\":[{\"id\":\"6236\"}]},\"id\":\"6249\",\"type\":\"LegendItem\"},{\"attributes\":{\"data_source\":{\"id\":\"6233\"},\"glyph\":{\"id\":\"6234\"},\"hover_glyph\":null,\"muted_glyph\":null,\"nonselection_glyph\":{\"id\":\"6235\"},\"view\":{\"id\":\"6237\"}},\"id\":\"6236\",\"type\":\"GlyphRenderer\"},{\"attributes\":{},\"id\":\"6285\",\"type\":\"UnionRenderers\"},{\"attributes\":{},\"id\":\"6242\",\"type\":\"BasicTickFormatter\"},{\"attributes\":{\"formatter\":{\"id\":\"6239\"},\"major_label_policy\":{\"id\":\"6241\"},\"ticker\":{\"id\":\"6212\"}},\"id\":\"6211\",\"type\":\"LinearAxis\"},{\"attributes\":{\"axis\":{\"id\":\"6211\"},\"grid_line_color\":null,\"ticker\":null},\"id\":\"6214\",\"type\":\"Grid\"},{\"attributes\":{\"data\":{\"top\":[1,1,1,1,2,2,2,2,2,4,4,4,4,4,6,6,6,6,6,10,10,10,10,10,14,14,14,14,14,20,20,20,20,20,26,26,26,26,26,35,35,35,35,35,44,44,44,44,44,57,57,57,57,57,70,70,70,70,70,88,88,88,88,88,106,106,106,106,106,130,130,130,130,130,154,154,154,154,154,185,185,185,185,185,216,216,216,216,216,255,255,255,255,255,294,294,294,294,294],\"x\":[1.25,2.25,3.25,4.25,5.25,6.25,7.25,8.25,9.25,10.25,11.25,12.25,13.25,14.25,15.25,16.25,17.25,18.25,19.25,20.25,21.25,22.25,23.25,24.25,25.25,26.25,27.25,28.25,29.25,30.25,31.25,32.25,33.25,34.25,35.25,36.25,37.25,38.25,39.25,40.25,41.25,42.25,43.25,44.25,45.25,46.25,47.25,48.25,49.25,50.25,51.25,52.25,53.25,54.25,55.25,56.25,57.25,58.25,59.25,60.25,61.25,62.25,63.25,64.25,65.25,66.25,67.25,68.25,69.25,70.25,71.25,72.25,73.25,74.25,75.25,76.25,77.25,78.25,79.25,80.25,81.25,82.25,83.25,84.25,85.25,86.25,87.25,88.25,89.25,90.25,91.25,92.25,93.25,94.25,95.25,96.25,97.25,98.25,99.25]},\"selected\":{\"id\":\"6286\"},\"selection_policy\":{\"id\":\"6285\"}},\"id\":\"6268\",\"type\":\"ColumnDataSource\"},{\"attributes\":{\"formatter\":{\"id\":\"6242\"},\"major_label_policy\":{\"id\":\"6244\"},\"ticker\":{\"id\":\"6216\"}},\"id\":\"6215\",\"type\":\"LinearAxis\"},{\"attributes\":{\"fill_alpha\":{\"value\":0.1},\"fill_color\":{\"value\":\"#859581\"},\"line_alpha\":{\"value\":0.1},\"line_color\":{\"value\":\"#859581\"},\"top\":{\"field\":\"top\"},\"width\":{\"value\":0.25},\"x\":{\"field\":\"x\"}},\"id\":\"6235\",\"type\":\"VBar\"},{\"attributes\":{},\"id\":\"6244\",\"type\":\"AllLabels\"},{\"attributes\":{},\"id\":\"6266\",\"type\":\"Selection\"},{\"attributes\":{\"end\":100,\"start\":1},\"id\":\"6203\",\"type\":\"Range1d\"},{\"attributes\":{\"label\":{\"value\":\"US\"},\"renderers\":[{\"id\":\"6253\"}]},\"id\":\"6267\",\"type\":\"LegendItem\"},{\"attributes\":{\"source\":{\"id\":\"6250\"}},\"id\":\"6254\",\"type\":\"CDSView\"},{\"attributes\":{\"end\":500},\"id\":\"6205\",\"type\":\"Range1d\"},{\"attributes\":{},\"id\":\"6265\",\"type\":\"UnionRenderers\"},{\"attributes\":{},\"id\":\"6224\",\"type\":\"HelpTool\"},{\"attributes\":{\"axis\":{\"id\":\"6215\"},\"dimension\":1,\"ticker\":null},\"id\":\"6218\",\"type\":\"Grid\"},{\"attributes\":{\"data\":{\"top\":[1,2,2,3,4,5,6,7,8,11,12,15,16,19,22,25,28,31,34,41,44,51,54,61,68,75,82,89,96,109,116,129,136,149,162,175,188,201,214,236,249,271,284,306,328,350,372,394,416,451,473,508,530,565,600,635,670,705,740,793,828,881,916,969,1022,1075,1128,1181,1234,1311,1364,1441,1494,1571,1648,1725,1802,1879,1956,2064,2141,2249,2326,2434,2542,2650,2758,2866,2974,3121,3229,3376,3484,3631,3778,3925,4072,4219,4366],\"x\":[0.75,1.75,2.75,3.75,4.75,5.75,6.75,7.75,8.75,9.75,10.75,11.75,12.75,13.75,14.75,15.75,16.75,17.75,18.75,19.75,20.75,21.75,22.75,23.75,24.75,25.75,26.75,27.75,28.75,29.75,30.75,31.75,32.75,33.75,34.75,35.75,36.75,37.75,38.75,39.75,40.75,41.75,42.75,43.75,44.75,45.75,46.75,47.75,48.75,49.75,50.75,51.75,52.75,53.75,54.75,55.75,56.75,57.75,58.75,59.75,60.75,61.75,62.75,63.75,64.75,65.75,66.75,67.75,68.75,69.75,70.75,71.75,72.75,73.75,74.75,75.75,76.75,77.75,78.75,79.75,80.75,81.75,82.75,83.75,84.75,85.75,86.75,87.75,88.75,89.75,90.75,91.75,92.75,93.75,94.75,95.75,96.75,97.75,98.75]},\"selected\":{\"id\":\"6247\"},\"selection_policy\":{\"id\":\"6246\"}},\"id\":\"6233\",\"type\":\"ColumnDataSource\"},{\"attributes\":{},\"id\":\"6239\",\"type\":\"BasicTickFormatter\"},{\"attributes\":{\"text\":\"Number of combinations\"},\"id\":\"6201\",\"type\":\"Title\"},{\"attributes\":{},\"id\":\"6207\",\"type\":\"LinearScale\"},{\"attributes\":{},\"id\":\"6216\",\"type\":\"BasicTicker\"},{\"attributes\":{\"fill_alpha\":{\"value\":0.1},\"fill_color\":{\"value\":\"#e84d60\"},\"line_alpha\":{\"value\":0.1},\"line_color\":{\"value\":\"#e84d60\"},\"top\":{\"field\":\"top\"},\"width\":{\"value\":0.25},\"x\":{\"field\":\"x\"}},\"id\":\"6270\",\"type\":\"VBar\"},{\"attributes\":{\"source\":{\"id\":\"6268\"}},\"id\":\"6272\",\"type\":\"CDSView\"},{\"attributes\":{\"fill_color\":{\"value\":\"#718dbf\"},\"line_color\":{\"value\":\"#718dbf\"},\"top\":{\"field\":\"top\"},\"width\":{\"value\":0.25},\"x\":{\"field\":\"x\"}},\"id\":\"6251\",\"type\":\"VBar\"},{\"attributes\":{\"data_source\":{\"id\":\"6268\"},\"glyph\":{\"id\":\"6269\"},\"hover_glyph\":null,\"muted_glyph\":null,\"nonselection_glyph\":{\"id\":\"6270\"},\"view\":{\"id\":\"6272\"}},\"id\":\"6271\",\"type\":\"GlyphRenderer\"},{\"attributes\":{\"data_source\":{\"id\":\"6250\"},\"glyph\":{\"id\":\"6251\"},\"hover_glyph\":null,\"muted_glyph\":null,\"nonselection_glyph\":{\"id\":\"6252\"},\"view\":{\"id\":\"6254\"}},\"id\":\"6253\",\"type\":\"GlyphRenderer\"},{\"attributes\":{\"bottom_units\":\"screen\",\"fill_alpha\":0.5,\"fill_color\":\"lightgrey\",\"left_units\":\"screen\",\"level\":\"overlay\",\"line_alpha\":1.0,\"line_color\":\"black\",\"line_dash\":[4,4],\"line_width\":2,\"right_units\":\"screen\",\"syncable\":false,\"top_units\":\"screen\"},\"id\":\"6225\",\"type\":\"BoxAnnotation\"},{\"attributes\":{},\"id\":\"6219\",\"type\":\"PanTool\"},{\"attributes\":{},\"id\":\"6286\",\"type\":\"Selection\"},{\"attributes\":{\"data\":{\"top\":[1,1,1,1,2,2,2,2,2,4,4,4,4,4,6,6,6,6,6,9,9,9,9,9,13,13,13,13,13,18,18,18,18,18,24,24,24,24,24,31,31,31,31,31,39,39,39,39,39,50,50,50,50,50,62,62,62,62,62,77,77,77,77,77,93,93,93,93,93,112,112,112,112,112,134,134,134,134,134,159,159,159,159,159,187,187,187,187,187,218,218,218,218,218,252,252,252,252,252],\"x\":[1,2,3,4,5,6,7,8,9,10,11,12,13,14,15,16,17,18,19,20,21,22,23,24,25,26,27,28,29,30,31,32,33,34,35,36,37,38,39,40,41,42,43,44,45,46,47,48,49,50,51,52,53,54,55,56,57,58,59,60,61,62,63,64,65,66,67,68,69,70,71,72,73,74,75,76,77,78,79,80,81,82,83,84,85,86,87,88,89,90,91,92,93,94,95,96,97,98,99]},\"selected\":{\"id\":\"6266\"},\"selection_policy\":{\"id\":\"6265\"}},\"id\":\"6250\",\"type\":\"ColumnDataSource\"},{\"attributes\":{\"active_multi\":null,\"tools\":[{\"id\":\"6219\"},{\"id\":\"6220\"},{\"id\":\"6221\"},{\"id\":\"6222\"},{\"id\":\"6223\"},{\"id\":\"6224\"}]},\"id\":\"6226\",\"type\":\"Toolbar\"},{\"attributes\":{\"fill_color\":{\"value\":\"#859581\"},\"line_color\":{\"value\":\"#859581\"},\"top\":{\"field\":\"top\"},\"width\":{\"value\":0.25},\"x\":{\"field\":\"x\"}},\"id\":\"6234\",\"type\":\"VBar\"},{\"attributes\":{\"fill_color\":{\"value\":\"#e84d60\"},\"line_color\":{\"value\":\"#e84d60\"},\"top\":{\"field\":\"top\"},\"width\":{\"value\":0.25},\"x\":{\"field\":\"x\"}},\"id\":\"6269\",\"type\":\"VBar\"},{\"attributes\":{},\"id\":\"6220\",\"type\":\"WheelZoomTool\"},{\"attributes\":{},\"id\":\"6223\",\"type\":\"ResetTool\"},{\"attributes\":{\"label\":{\"value\":\"Another\"},\"renderers\":[{\"id\":\"6271\"}]},\"id\":\"6287\",\"type\":\"LegendItem\"},{\"attributes\":{\"overlay\":{\"id\":\"6225\"}},\"id\":\"6221\",\"type\":\"BoxZoomTool\"}],\"root_ids\":[\"6200\"]},\"title\":\"Bokeh Application\",\"version\":\"2.3.3\"}};\n",
       "  var render_items = [{\"docid\":\"7f542df5-d02a-4727-8641-e7e3df51e174\",\"root_ids\":[\"6200\"],\"roots\":{\"6200\":\"52ca5958-39e8-4669-a32d-82f8999c73a5\"}}];\n",
       "  root.Bokeh.embed.embed_items_notebook(docs_json, render_items);\n",
       "\n",
       "  }\n",
       "  if (root.Bokeh !== undefined) {\n",
       "    embed_document(root);\n",
       "  } else {\n",
       "    var attempts = 0;\n",
       "    var timer = setInterval(function(root) {\n",
       "      if (root.Bokeh !== undefined) {\n",
       "        clearInterval(timer);\n",
       "        embed_document(root);\n",
       "      } else {\n",
       "        attempts++;\n",
       "        if (attempts > 100) {\n",
       "          clearInterval(timer);\n",
       "          console.log(\"Bokeh: ERROR: Unable to run BokehJS code because BokehJS library is missing\");\n",
       "        }\n",
       "      }\n",
       "    }, 10, root)\n",
       "  }\n",
       "})(window);"
      ],
      "application/vnd.bokehjs_exec.v0+json": ""
     },
     "metadata": {
      "application/vnd.bokehjs_exec.v0+json": {
       "id": "6200"
      }
     },
     "output_type": "display_data"
    }
   ],
   "source": [
    "plot(ways, title='Number of combinations', y_range=500)"
   ]
  },
  {
   "cell_type": "markdown",
   "id": "350f518a",
   "metadata": {},
   "source": [
    "Minimum number of coins needed\n",
    "---\n",
    "\n",
    "Becase of the penny (1-cent), the maximum count is unsurprisingly always equal to the amount. Here we look at the minimum count.\n",
    "\n",
    "As I examine the following plot, Uncle Sam was whispering to my ears: \"Hmm, not too bad, I'd say.\"\n",
    "\n",
    "As a perk of being economical (making only 5 types of coins), the US system needs 7 coins to pay for 74 cents (`50 + 2*10 + 4*1`), while the EU system only needs 4 coins (`50 + 20 + 2 * 2`)."
   ]
  },
  {
   "cell_type": "code",
   "execution_count": 48,
   "id": "39531520",
   "metadata": {},
   "outputs": [
    {
     "data": {
      "text/html": [
       "\n",
       "\n",
       "\n",
       "\n",
       "\n",
       "\n",
       "  <div class=\"bk-root\" id=\"0cfcbfcf-6a87-40ec-815d-31cea5f7c699\" data-root-id=\"6610\"></div>\n"
      ]
     },
     "metadata": {},
     "output_type": "display_data"
    },
    {
     "data": {
      "application/javascript": [
       "(function(root) {\n",
       "  function embed_document(root) {\n",
       "    \n",
       "  var docs_json = {\"c9d0a7d3-5eaa-4854-84f3-a96aeef3d681\":{\"defs\":[],\"roots\":{\"references\":[{\"attributes\":{\"below\":[{\"id\":\"6621\"}],\"center\":[{\"id\":\"6624\"},{\"id\":\"6628\"},{\"id\":\"6658\"}],\"height\":350,\"left\":[{\"id\":\"6625\"}],\"renderers\":[{\"id\":\"6646\"},{\"id\":\"6663\"},{\"id\":\"6681\"}],\"title\":{\"id\":\"6611\"},\"toolbar\":{\"id\":\"6636\"},\"width\":950,\"x_range\":{\"id\":\"6613\"},\"x_scale\":{\"id\":\"6617\"},\"y_range\":{\"id\":\"6615\"},\"y_scale\":{\"id\":\"6619\"}},\"id\":\"6610\",\"subtype\":\"Figure\",\"type\":\"Plot\"},{\"attributes\":{\"end\":100,\"start\":1},\"id\":\"6613\",\"type\":\"Range1d\"},{\"attributes\":{},\"id\":\"6656\",\"type\":\"UnionRenderers\"},{\"attributes\":{},\"id\":\"6676\",\"type\":\"Selection\"},{\"attributes\":{\"active_multi\":null,\"tools\":[{\"id\":\"6629\"},{\"id\":\"6630\"},{\"id\":\"6631\"},{\"id\":\"6632\"},{\"id\":\"6633\"},{\"id\":\"6634\"}]},\"id\":\"6636\",\"type\":\"Toolbar\"},{\"attributes\":{},\"id\":\"6632\",\"type\":\"SaveTool\"},{\"attributes\":{},\"id\":\"6633\",\"type\":\"ResetTool\"},{\"attributes\":{\"label\":{\"value\":\"US\"},\"renderers\":[{\"id\":\"6663\"}]},\"id\":\"6677\",\"type\":\"LegendItem\"},{\"attributes\":{},\"id\":\"6634\",\"type\":\"HelpTool\"},{\"attributes\":{},\"id\":\"6654\",\"type\":\"AllLabels\"},{\"attributes\":{\"data\":{\"top\":[1,2,3,4,1,2,3,4,5,1,2,3,4,5,2,3,4,5,6,1,2,3,4,5,2,3,4,5,6,2,3,4,5,6,3,4,5,6,7,2,3,4,5,6,3,4,5,6,7,1,2,3,4,5,2,3,4,5,6,2,3,4,5,6,3,4,5,6,7,2,3,4,5,6,3,4,5,6,7,3,4,5,6,7,4,5,6,7,8,3,4,5,6,7,4,5,6,7,8],\"x\":[1.25,2.25,3.25,4.25,5.25,6.25,7.25,8.25,9.25,10.25,11.25,12.25,13.25,14.25,15.25,16.25,17.25,18.25,19.25,20.25,21.25,22.25,23.25,24.25,25.25,26.25,27.25,28.25,29.25,30.25,31.25,32.25,33.25,34.25,35.25,36.25,37.25,38.25,39.25,40.25,41.25,42.25,43.25,44.25,45.25,46.25,47.25,48.25,49.25,50.25,51.25,52.25,53.25,54.25,55.25,56.25,57.25,58.25,59.25,60.25,61.25,62.25,63.25,64.25,65.25,66.25,67.25,68.25,69.25,70.25,71.25,72.25,73.25,74.25,75.25,76.25,77.25,78.25,79.25,80.25,81.25,82.25,83.25,84.25,85.25,86.25,87.25,88.25,89.25,90.25,91.25,92.25,93.25,94.25,95.25,96.25,97.25,98.25,99.25]},\"selected\":{\"id\":\"6696\"},\"selection_policy\":{\"id\":\"6695\"}},\"id\":\"6678\",\"type\":\"ColumnDataSource\"},{\"attributes\":{},\"id\":\"6630\",\"type\":\"WheelZoomTool\"},{\"attributes\":{},\"id\":\"6652\",\"type\":\"BasicTickFormatter\"},{\"attributes\":{},\"id\":\"6651\",\"type\":\"AllLabels\"},{\"attributes\":{},\"id\":\"6695\",\"type\":\"UnionRenderers\"},{\"attributes\":{},\"id\":\"6629\",\"type\":\"PanTool\"},{\"attributes\":{\"fill_alpha\":{\"value\":0.1},\"fill_color\":{\"value\":\"#e84d60\"},\"line_alpha\":{\"value\":0.1},\"line_color\":{\"value\":\"#e84d60\"},\"top\":{\"field\":\"top\"},\"width\":{\"value\":0.25},\"x\":{\"field\":\"x\"}},\"id\":\"6680\",\"type\":\"VBar\"},{\"attributes\":{\"bottom_units\":\"screen\",\"fill_alpha\":0.5,\"fill_color\":\"lightgrey\",\"left_units\":\"screen\",\"level\":\"overlay\",\"line_alpha\":1.0,\"line_color\":\"black\",\"line_dash\":[4,4],\"line_width\":2,\"right_units\":\"screen\",\"syncable\":false,\"top_units\":\"screen\"},\"id\":\"6635\",\"type\":\"BoxAnnotation\"},{\"attributes\":{\"data\":{\"top\":[1,1,2,2,1,2,2,3,3,1,2,2,3,3,2,3,3,4,4,1,2,2,3,3,2,3,3,4,4,2,3,3,4,4,3,4,4,5,5,2,3,3,4,4,3,4,4,5,5,1,2,2,3,3,2,3,3,4,4,2,3,3,4,4,3,4,4,5,5,2,3,3,4,4,3,4,4,5,5,3,4,4,5,5,4,5,5,6,6,3,4,4,5,5,4,5,5,6,6],\"x\":[0.75,1.75,2.75,3.75,4.75,5.75,6.75,7.75,8.75,9.75,10.75,11.75,12.75,13.75,14.75,15.75,16.75,17.75,18.75,19.75,20.75,21.75,22.75,23.75,24.75,25.75,26.75,27.75,28.75,29.75,30.75,31.75,32.75,33.75,34.75,35.75,36.75,37.75,38.75,39.75,40.75,41.75,42.75,43.75,44.75,45.75,46.75,47.75,48.75,49.75,50.75,51.75,52.75,53.75,54.75,55.75,56.75,57.75,58.75,59.75,60.75,61.75,62.75,63.75,64.75,65.75,66.75,67.75,68.75,69.75,70.75,71.75,72.75,73.75,74.75,75.75,76.75,77.75,78.75,79.75,80.75,81.75,82.75,83.75,84.75,85.75,86.75,87.75,88.75,89.75,90.75,91.75,92.75,93.75,94.75,95.75,96.75,97.75,98.75]},\"selected\":{\"id\":\"6657\"},\"selection_policy\":{\"id\":\"6656\"}},\"id\":\"6643\",\"type\":\"ColumnDataSource\"},{\"attributes\":{\"source\":{\"id\":\"6678\"}},\"id\":\"6682\",\"type\":\"CDSView\"},{\"attributes\":{\"data_source\":{\"id\":\"6678\"},\"glyph\":{\"id\":\"6679\"},\"hover_glyph\":null,\"muted_glyph\":null,\"nonselection_glyph\":{\"id\":\"6680\"},\"view\":{\"id\":\"6682\"}},\"id\":\"6681\",\"type\":\"GlyphRenderer\"},{\"attributes\":{},\"id\":\"6649\",\"type\":\"BasicTickFormatter\"},{\"attributes\":{\"source\":{\"id\":\"6643\"}},\"id\":\"6647\",\"type\":\"CDSView\"},{\"attributes\":{\"axis\":{\"id\":\"6625\"},\"dimension\":1,\"ticker\":null},\"id\":\"6628\",\"type\":\"Grid\"},{\"attributes\":{\"fill_color\":{\"value\":\"#e84d60\"},\"line_color\":{\"value\":\"#e84d60\"},\"top\":{\"field\":\"top\"},\"width\":{\"value\":0.25},\"x\":{\"field\":\"x\"}},\"id\":\"6679\",\"type\":\"VBar\"},{\"attributes\":{\"fill_alpha\":{\"value\":0.1},\"fill_color\":{\"value\":\"#859581\"},\"line_alpha\":{\"value\":0.1},\"line_color\":{\"value\":\"#859581\"},\"top\":{\"field\":\"top\"},\"width\":{\"value\":0.25},\"x\":{\"field\":\"x\"}},\"id\":\"6645\",\"type\":\"VBar\"},{\"attributes\":{\"fill_color\":{\"value\":\"#859581\"},\"line_color\":{\"value\":\"#859581\"},\"top\":{\"field\":\"top\"},\"width\":{\"value\":0.25},\"x\":{\"field\":\"x\"}},\"id\":\"6644\",\"type\":\"VBar\"},{\"attributes\":{},\"id\":\"6615\",\"type\":\"DataRange1d\"},{\"attributes\":{\"data_source\":{\"id\":\"6643\"},\"glyph\":{\"id\":\"6644\"},\"hover_glyph\":null,\"muted_glyph\":null,\"nonselection_glyph\":{\"id\":\"6645\"},\"view\":{\"id\":\"6647\"}},\"id\":\"6646\",\"type\":\"GlyphRenderer\"},{\"attributes\":{},\"id\":\"6622\",\"type\":\"BasicTicker\"},{\"attributes\":{},\"id\":\"6696\",\"type\":\"Selection\"},{\"attributes\":{\"label\":{\"value\":\"Another\"},\"renderers\":[{\"id\":\"6681\"}]},\"id\":\"6697\",\"type\":\"LegendItem\"},{\"attributes\":{},\"id\":\"6626\",\"type\":\"BasicTicker\"},{\"attributes\":{},\"id\":\"6657\",\"type\":\"Selection\"},{\"attributes\":{\"items\":[{\"id\":\"6659\"},{\"id\":\"6677\"},{\"id\":\"6697\"}],\"location\":\"top_left\",\"orientation\":\"horizontal\"},\"id\":\"6658\",\"type\":\"Legend\"},{\"attributes\":{\"formatter\":{\"id\":\"6649\"},\"major_label_policy\":{\"id\":\"6651\"},\"ticker\":{\"id\":\"6622\"}},\"id\":\"6621\",\"type\":\"LinearAxis\"},{\"attributes\":{},\"id\":\"6619\",\"type\":\"LinearScale\"},{\"attributes\":{\"label\":{\"value\":\"EU\"},\"renderers\":[{\"id\":\"6646\"}]},\"id\":\"6659\",\"type\":\"LegendItem\"},{\"attributes\":{\"data\":{\"top\":[1,2,3,4,1,2,3,4,5,1,2,3,4,5,2,3,4,5,6,2,3,4,5,6,1,2,3,4,5,2,3,4,5,6,2,3,4,5,6,3,4,5,6,7,3,4,5,6,7,1,2,3,4,5,2,3,4,5,6,2,3,4,5,6,3,4,5,6,7,3,4,5,6,7,2,3,4,5,6,3,4,5,6,7,3,4,5,6,7,4,5,6,7,8,4,5,6,7,8],\"x\":[1,2,3,4,5,6,7,8,9,10,11,12,13,14,15,16,17,18,19,20,21,22,23,24,25,26,27,28,29,30,31,32,33,34,35,36,37,38,39,40,41,42,43,44,45,46,47,48,49,50,51,52,53,54,55,56,57,58,59,60,61,62,63,64,65,66,67,68,69,70,71,72,73,74,75,76,77,78,79,80,81,82,83,84,85,86,87,88,89,90,91,92,93,94,95,96,97,98,99]},\"selected\":{\"id\":\"6676\"},\"selection_policy\":{\"id\":\"6675\"}},\"id\":\"6660\",\"type\":\"ColumnDataSource\"},{\"attributes\":{\"formatter\":{\"id\":\"6652\"},\"major_label_policy\":{\"id\":\"6654\"},\"ticker\":{\"id\":\"6626\"}},\"id\":\"6625\",\"type\":\"LinearAxis\"},{\"attributes\":{\"text\":\"Minimum count\"},\"id\":\"6611\",\"type\":\"Title\"},{\"attributes\":{\"axis\":{\"id\":\"6621\"},\"grid_line_color\":null,\"ticker\":null},\"id\":\"6624\",\"type\":\"Grid\"},{\"attributes\":{},\"id\":\"6675\",\"type\":\"UnionRenderers\"},{\"attributes\":{\"fill_alpha\":{\"value\":0.1},\"fill_color\":{\"value\":\"#718dbf\"},\"line_alpha\":{\"value\":0.1},\"line_color\":{\"value\":\"#718dbf\"},\"top\":{\"field\":\"top\"},\"width\":{\"value\":0.25},\"x\":{\"field\":\"x\"}},\"id\":\"6662\",\"type\":\"VBar\"},{\"attributes\":{\"source\":{\"id\":\"6660\"}},\"id\":\"6664\",\"type\":\"CDSView\"},{\"attributes\":{\"data_source\":{\"id\":\"6660\"},\"glyph\":{\"id\":\"6661\"},\"hover_glyph\":null,\"muted_glyph\":null,\"nonselection_glyph\":{\"id\":\"6662\"},\"view\":{\"id\":\"6664\"}},\"id\":\"6663\",\"type\":\"GlyphRenderer\"},{\"attributes\":{},\"id\":\"6617\",\"type\":\"LinearScale\"},{\"attributes\":{\"fill_color\":{\"value\":\"#718dbf\"},\"line_color\":{\"value\":\"#718dbf\"},\"top\":{\"field\":\"top\"},\"width\":{\"value\":0.25},\"x\":{\"field\":\"x\"}},\"id\":\"6661\",\"type\":\"VBar\"},{\"attributes\":{\"overlay\":{\"id\":\"6635\"}},\"id\":\"6631\",\"type\":\"BoxZoomTool\"}],\"root_ids\":[\"6610\"]},\"title\":\"Bokeh Application\",\"version\":\"2.3.3\"}};\n",
       "  var render_items = [{\"docid\":\"c9d0a7d3-5eaa-4854-84f3-a96aeef3d681\",\"root_ids\":[\"6610\"],\"roots\":{\"6610\":\"0cfcbfcf-6a87-40ec-815d-31cea5f7c699\"}}];\n",
       "  root.Bokeh.embed.embed_items_notebook(docs_json, render_items);\n",
       "\n",
       "  }\n",
       "  if (root.Bokeh !== undefined) {\n",
       "    embed_document(root);\n",
       "  } else {\n",
       "    var attempts = 0;\n",
       "    var timer = setInterval(function(root) {\n",
       "      if (root.Bokeh !== undefined) {\n",
       "        clearInterval(timer);\n",
       "        embed_document(root);\n",
       "      } else {\n",
       "        attempts++;\n",
       "        if (attempts > 100) {\n",
       "          clearInterval(timer);\n",
       "          console.log(\"Bokeh: ERROR: Unable to run BokehJS code because BokehJS library is missing\");\n",
       "        }\n",
       "      }\n",
       "    }, 10, root)\n",
       "  }\n",
       "})(window);"
      ],
      "application/vnd.bokehjs_exec.v0+json": ""
     },
     "metadata": {
      "application/vnd.bokehjs_exec.v0+json": {
       "id": "6610"
      }
     },
     "output_type": "display_data"
    }
   ],
   "source": [
    "plot(min_way, 'Minimum count')"
   ]
  },
  {
   "cell_type": "markdown",
   "id": "df78a514",
   "metadata": {},
   "source": [
    "Among the two systems with 5 types of coins, there are 20 cases where Americas need more coins, 59 cases where they are the same, and 20 cases the US system needs less coins, as shown below:"
   ]
  },
  {
   "cell_type": "code",
   "execution_count": 63,
   "id": "e3315479",
   "metadata": {},
   "outputs": [
    {
     "name": "stdout",
     "output_type": "stream",
     "text": [
      "More: 20 cases of total 20\n",
      "Equal: 59 cases\n",
      "Less: 20 cases of total 20\n"
     ]
    }
   ],
   "source": [
    "five_types = list(zip(min_way['US'], min_way['Another']))\n",
    "mores = list(filter(lambda a: a[0] > a[1], five_types))\n",
    "print('More: {} cases of total {}'.format(len(mores), sum(map(lambda a: a[0] - a[1], mores))))\n",
    "equals = filter(lambda a: a[0] == a[1], five_types)\n",
    "print('Equal: {} cases'.format(len(list(equals))))\n",
    "lesses = list(filter(lambda a: a[0] < a[1], five_types))\n",
    "print('Less: {} cases of total {}'.format(len(lesses), sum(map(lambda a: a[1] - a[0], lesses))))"
   ]
  },
  {
   "cell_type": "markdown",
   "id": "6531fd51",
   "metadata": {},
   "source": [
    "Average number of coins needed\n",
    "---\n",
    "\n",
    "Among all the combinations, what is the average number of coins needed to pay for a given amount?"
   ]
  },
  {
   "cell_type": "code",
   "execution_count": 55,
   "id": "8b0e10d2",
   "metadata": {},
   "outputs": [
    {
     "data": {
      "text/html": [
       "\n",
       "\n",
       "\n",
       "\n",
       "\n",
       "\n",
       "  <div class=\"bk-root\" id=\"6560cd6b-6331-40c6-92e8-3158fd49e00a\" data-root-id=\"7034\"></div>\n"
      ]
     },
     "metadata": {},
     "output_type": "display_data"
    },
    {
     "data": {
      "application/javascript": [
       "(function(root) {\n",
       "  function embed_document(root) {\n",
       "    \n",
       "  var docs_json = {\"8832e0ce-e293-4513-a3b2-73f9ace554e4\":{\"defs\":[],\"roots\":{\"references\":[{\"attributes\":{\"below\":[{\"id\":\"7045\"}],\"center\":[{\"id\":\"7048\"},{\"id\":\"7052\"},{\"id\":\"7082\"}],\"height\":350,\"left\":[{\"id\":\"7049\"}],\"renderers\":[{\"id\":\"7070\"},{\"id\":\"7087\"},{\"id\":\"7105\"}],\"title\":{\"id\":\"7035\"},\"toolbar\":{\"id\":\"7060\"},\"width\":950,\"x_range\":{\"id\":\"7037\"},\"x_scale\":{\"id\":\"7041\"},\"y_range\":{\"id\":\"7039\"},\"y_scale\":{\"id\":\"7043\"}},\"id\":\"7034\",\"subtype\":\"Figure\",\"type\":\"Plot\"},{\"attributes\":{},\"id\":\"7053\",\"type\":\"PanTool\"},{\"attributes\":{\"items\":[{\"id\":\"7083\"},{\"id\":\"7101\"},{\"id\":\"7121\"}],\"location\":\"top_left\",\"orientation\":\"horizontal\"},\"id\":\"7082\",\"type\":\"Legend\"},{\"attributes\":{\"fill_alpha\":{\"value\":0.1},\"fill_color\":{\"value\":\"#859581\"},\"line_alpha\":{\"value\":0.1},\"line_color\":{\"value\":\"#859581\"},\"top\":{\"field\":\"top\"},\"width\":{\"value\":0.25},\"x\":{\"field\":\"x\"}},\"id\":\"7069\",\"type\":\"VBar\"},{\"attributes\":{},\"id\":\"7075\",\"type\":\"AllLabels\"},{\"attributes\":{\"text\":\"Average number of coins\"},\"id\":\"7035\",\"type\":\"Title\"},{\"attributes\":{\"fill_alpha\":{\"value\":0.1},\"fill_color\":{\"value\":\"#718dbf\"},\"line_alpha\":{\"value\":0.1},\"line_color\":{\"value\":\"#718dbf\"},\"top\":{\"field\":\"top\"},\"width\":{\"value\":0.25},\"x\":{\"field\":\"x\"}},\"id\":\"7086\",\"type\":\"VBar\"},{\"attributes\":{},\"id\":\"7054\",\"type\":\"WheelZoomTool\"},{\"attributes\":{\"formatter\":{\"id\":\"7073\"},\"major_label_policy\":{\"id\":\"7075\"},\"ticker\":{\"id\":\"7046\"}},\"id\":\"7045\",\"type\":\"LinearAxis\"},{\"attributes\":{\"fill_color\":{\"value\":\"#859581\"},\"line_color\":{\"value\":\"#859581\"},\"top\":{\"field\":\"top\"},\"width\":{\"value\":0.25},\"x\":{\"field\":\"x\"}},\"id\":\"7068\",\"type\":\"VBar\"},{\"attributes\":{\"source\":{\"id\":\"7084\"}},\"id\":\"7088\",\"type\":\"CDSView\"},{\"attributes\":{},\"id\":\"7039\",\"type\":\"DataRange1d\"},{\"attributes\":{},\"id\":\"7041\",\"type\":\"LinearScale\"},{\"attributes\":{\"end\":100,\"start\":1},\"id\":\"7037\",\"type\":\"Range1d\"},{\"attributes\":{\"data_source\":{\"id\":\"7084\"},\"glyph\":{\"id\":\"7085\"},\"hover_glyph\":null,\"muted_glyph\":null,\"nonselection_glyph\":{\"id\":\"7086\"},\"view\":{\"id\":\"7088\"}},\"id\":\"7087\",\"type\":\"GlyphRenderer\"},{\"attributes\":{},\"id\":\"7100\",\"type\":\"Selection\"},{\"attributes\":{},\"id\":\"7046\",\"type\":\"BasicTicker\"},{\"attributes\":{},\"id\":\"7058\",\"type\":\"HelpTool\"},{\"attributes\":{},\"id\":\"7043\",\"type\":\"LinearScale\"},{\"attributes\":{\"label\":{\"value\":\"US\"},\"renderers\":[{\"id\":\"7087\"}]},\"id\":\"7101\",\"type\":\"LegendItem\"},{\"attributes\":{\"active_multi\":null,\"tools\":[{\"id\":\"7053\"},{\"id\":\"7054\"},{\"id\":\"7055\"},{\"id\":\"7056\"},{\"id\":\"7057\"},{\"id\":\"7058\"}]},\"id\":\"7060\",\"type\":\"Toolbar\"},{\"attributes\":{\"data\":{\"top\":[1.0,2.0,3.0,4.0,3.0,4.0,5.0,6.0,7.0,4.75,5.75,6.75,7.75,8.75,7.333333333333333,8.333333333333334,9.333333333333334,10.333333333333334,11.333333333333334,8.4,9.4,10.4,11.4,12.4,10.571428571428571,11.571428571428571,12.571428571428571,13.571428571428571,14.571428571428571,12.05,13.05,14.05,15.05,16.05,14.23076923076923,15.23076923076923,16.23076923076923,17.23076923076923,18.23076923076923,15.542857142857143,16.542857142857144,17.542857142857144,18.542857142857144,19.542857142857144,17.545454545454547,18.545454545454547,19.545454545454547,20.545454545454547,21.545454545454547,18.719298245614034,19.719298245614034,20.719298245614034,21.719298245614034,22.719298245614034,20.571428571428573,21.571428571428573,22.571428571428573,23.571428571428573,24.571428571428573,21.71590909090909,22.71590909090909,23.71590909090909,24.71590909090909,25.71590909090909,23.49056603773585,24.49056603773585,25.49056603773585,26.49056603773585,27.49056603773585,24.646153846153847,25.646153846153847,26.646153846153847,27.646153846153847,28.646153846153847,26.376623376623378,27.376623376623378,28.376623376623378,29.376623376623378,30.376623376623378,27.572972972972973,28.572972972972973,29.572972972972973,30.572972972972973,31.572972972972973,29.287037037037038,30.287037037037038,31.287037037037038,32.28703703703704,33.28703703703704,30.525490196078433,31.525490196078433,32.52549019607843,33.52549019607843,34.52549019607843,32.2312925170068,33.2312925170068,34.2312925170068,35.2312925170068,36.2312925170068],\"x\":[1.25,2.25,3.25,4.25,5.25,6.25,7.25,8.25,9.25,10.25,11.25,12.25,13.25,14.25,15.25,16.25,17.25,18.25,19.25,20.25,21.25,22.25,23.25,24.25,25.25,26.25,27.25,28.25,29.25,30.25,31.25,32.25,33.25,34.25,35.25,36.25,37.25,38.25,39.25,40.25,41.25,42.25,43.25,44.25,45.25,46.25,47.25,48.25,49.25,50.25,51.25,52.25,53.25,54.25,55.25,56.25,57.25,58.25,59.25,60.25,61.25,62.25,63.25,64.25,65.25,66.25,67.25,68.25,69.25,70.25,71.25,72.25,73.25,74.25,75.25,76.25,77.25,78.25,79.25,80.25,81.25,82.25,83.25,84.25,85.25,86.25,87.25,88.25,89.25,90.25,91.25,92.25,93.25,94.25,95.25,96.25,97.25,98.25,99.25]},\"selected\":{\"id\":\"7120\"},\"selection_policy\":{\"id\":\"7119\"}},\"id\":\"7102\",\"type\":\"ColumnDataSource\"},{\"attributes\":{\"fill_color\":{\"value\":\"#718dbf\"},\"line_color\":{\"value\":\"#718dbf\"},\"top\":{\"field\":\"top\"},\"width\":{\"value\":0.25},\"x\":{\"field\":\"x\"}},\"id\":\"7085\",\"type\":\"VBar\"},{\"attributes\":{},\"id\":\"7056\",\"type\":\"SaveTool\"},{\"attributes\":{\"fill_alpha\":{\"value\":0.1},\"fill_color\":{\"value\":\"#e84d60\"},\"line_alpha\":{\"value\":0.1},\"line_color\":{\"value\":\"#e84d60\"},\"top\":{\"field\":\"top\"},\"width\":{\"value\":0.25},\"x\":{\"field\":\"x\"}},\"id\":\"7104\",\"type\":\"VBar\"},{\"attributes\":{},\"id\":\"7057\",\"type\":\"ResetTool\"},{\"attributes\":{\"source\":{\"id\":\"7102\"}},\"id\":\"7106\",\"type\":\"CDSView\"},{\"attributes\":{\"overlay\":{\"id\":\"7059\"}},\"id\":\"7055\",\"type\":\"BoxZoomTool\"},{\"attributes\":{\"data_source\":{\"id\":\"7102\"},\"glyph\":{\"id\":\"7103\"},\"hover_glyph\":null,\"muted_glyph\":null,\"nonselection_glyph\":{\"id\":\"7104\"},\"view\":{\"id\":\"7106\"}},\"id\":\"7105\",\"type\":\"GlyphRenderer\"},{\"attributes\":{},\"id\":\"7073\",\"type\":\"BasicTickFormatter\"},{\"attributes\":{},\"id\":\"7081\",\"type\":\"Selection\"},{\"attributes\":{},\"id\":\"7099\",\"type\":\"UnionRenderers\"},{\"attributes\":{},\"id\":\"7080\",\"type\":\"UnionRenderers\"},{\"attributes\":{\"axis\":{\"id\":\"7045\"},\"grid_line_color\":null,\"ticker\":null},\"id\":\"7048\",\"type\":\"Grid\"},{\"attributes\":{\"axis\":{\"id\":\"7049\"},\"dimension\":1,\"ticker\":null},\"id\":\"7052\",\"type\":\"Grid\"},{\"attributes\":{\"fill_color\":{\"value\":\"#e84d60\"},\"line_color\":{\"value\":\"#e84d60\"},\"top\":{\"field\":\"top\"},\"width\":{\"value\":0.25},\"x\":{\"field\":\"x\"}},\"id\":\"7103\",\"type\":\"VBar\"},{\"attributes\":{\"bottom_units\":\"screen\",\"fill_alpha\":0.5,\"fill_color\":\"lightgrey\",\"left_units\":\"screen\",\"level\":\"overlay\",\"line_alpha\":1.0,\"line_color\":\"black\",\"line_dash\":[4,4],\"line_width\":2,\"right_units\":\"screen\",\"syncable\":false,\"top_units\":\"screen\"},\"id\":\"7059\",\"type\":\"BoxAnnotation\"},{\"attributes\":{},\"id\":\"7050\",\"type\":\"BasicTicker\"},{\"attributes\":{\"label\":{\"value\":\"EU\"},\"renderers\":[{\"id\":\"7070\"}]},\"id\":\"7083\",\"type\":\"LegendItem\"},{\"attributes\":{},\"id\":\"7119\",\"type\":\"UnionRenderers\"},{\"attributes\":{\"formatter\":{\"id\":\"7076\"},\"major_label_policy\":{\"id\":\"7078\"},\"ticker\":{\"id\":\"7050\"}},\"id\":\"7049\",\"type\":\"LinearAxis\"},{\"attributes\":{},\"id\":\"7120\",\"type\":\"Selection\"},{\"attributes\":{\"data_source\":{\"id\":\"7067\"},\"glyph\":{\"id\":\"7068\"},\"hover_glyph\":null,\"muted_glyph\":null,\"nonselection_glyph\":{\"id\":\"7069\"},\"view\":{\"id\":\"7071\"}},\"id\":\"7070\",\"type\":\"GlyphRenderer\"},{\"attributes\":{\"label\":{\"value\":\"Another\"},\"renderers\":[{\"id\":\"7105\"}]},\"id\":\"7121\",\"type\":\"LegendItem\"},{\"attributes\":{\"source\":{\"id\":\"7067\"}},\"id\":\"7071\",\"type\":\"CDSView\"},{\"attributes\":{},\"id\":\"7076\",\"type\":\"BasicTickFormatter\"},{\"attributes\":{\"data\":{\"top\":[1.0,1.5,2.5,3.0,3.25,4.0,4.5,5.285714285714286,5.875,5.7272727272727275,6.5,6.733333333333333,7.5625,7.947368421052632,8.227272727272727,8.8,9.25,9.903225806451612,10.441176470588236,10.292682926829269,10.977272727272727,11.117647058823529,11.87037037037037,12.163934426229508,12.397058823529411,12.866666666666667,13.25609756097561,13.820224719101123,14.302083333333334,14.311926605504587,14.913793103448276,15.116279069767442,15.786764705882353,16.107382550335572,16.376543209876544,16.82857142857143,17.21808510638298,17.751243781094526,18.2196261682243,18.27542372881356,18.843373493975903,19.051660516605168,19.683098591549296,19.99346405228758,20.26219512195122,20.685714285714287,21.059139784946236,21.558375634517766,22.004807692307693,22.073170731707318,22.608879492600423,22.809055118110237,23.40566037735849,23.699115044247787,23.958333333333332,24.35433070866142,24.708955223880597,25.177304964539008,25.60135135135135,25.682219419924337,26.18840579710145,26.385925085130534,26.950873362445414,27.234262125902994,27.48825831702544,27.865116279069767,28.206560283687942,28.65198983911939,29.059157212317665,29.155606407322654,29.63856304985337,29.839000693962525,30.37817938420348,30.657542966263527,30.910800970873787,31.27536231884058,31.608768035516093,32.03778605641298,32.43302658486708,32.54796511627907,33.013078000934144,33.22098710538017,33.73946689595873,34.01972062448644,34.27616050354052,34.633962264150945,34.963741841914434,35.38171667829728,35.76933422999328,35.903236142262095,36.355218333849486,36.57257109004739,37.07491389207807,37.35857890388323,37.62016940179989,37.97452229299363,38.30329076620825,38.71367622659398,39.09642693540999],\"x\":[0.75,1.75,2.75,3.75,4.75,5.75,6.75,7.75,8.75,9.75,10.75,11.75,12.75,13.75,14.75,15.75,16.75,17.75,18.75,19.75,20.75,21.75,22.75,23.75,24.75,25.75,26.75,27.75,28.75,29.75,30.75,31.75,32.75,33.75,34.75,35.75,36.75,37.75,38.75,39.75,40.75,41.75,42.75,43.75,44.75,45.75,46.75,47.75,48.75,49.75,50.75,51.75,52.75,53.75,54.75,55.75,56.75,57.75,58.75,59.75,60.75,61.75,62.75,63.75,64.75,65.75,66.75,67.75,68.75,69.75,70.75,71.75,72.75,73.75,74.75,75.75,76.75,77.75,78.75,79.75,80.75,81.75,82.75,83.75,84.75,85.75,86.75,87.75,88.75,89.75,90.75,91.75,92.75,93.75,94.75,95.75,96.75,97.75,98.75]},\"selected\":{\"id\":\"7081\"},\"selection_policy\":{\"id\":\"7080\"}},\"id\":\"7067\",\"type\":\"ColumnDataSource\"},{\"attributes\":{},\"id\":\"7078\",\"type\":\"AllLabels\"},{\"attributes\":{\"data\":{\"top\":[1.0,2.0,3.0,4.0,3.0,4.0,5.0,6.0,7.0,4.75,5.75,6.75,7.75,8.75,7.333333333333333,8.333333333333334,9.333333333333334,10.333333333333334,11.333333333333334,9.222222222222221,10.222222222222221,11.222222222222221,12.222222222222221,13.222222222222221,10.846153846153847,11.846153846153847,12.846153846153847,13.846153846153847,14.846153846153847,12.555555555555555,13.555555555555555,14.555555555555555,15.555555555555555,16.555555555555557,14.291666666666666,15.291666666666666,16.291666666666668,17.291666666666668,18.291666666666668,16.129032258064516,17.129032258064516,18.129032258064516,19.129032258064516,20.129032258064516,18.0,19.0,20.0,21.0,22.0,19.2,20.2,21.2,22.2,23.2,20.774193548387096,21.774193548387096,22.774193548387096,23.774193548387096,24.774193548387096,22.064935064935064,23.064935064935064,24.064935064935064,25.064935064935064,26.064935064935064,23.70967741935484,24.70967741935484,25.70967741935484,26.70967741935484,27.70967741935484,25.1875,26.1875,27.1875,28.1875,29.1875,26.582089552238806,27.582089552238806,28.582089552238806,29.582089552238806,30.582089552238806,28.0,29.0,30.0,31.0,32.0,29.44385026737968,30.44385026737968,31.44385026737968,32.44385026737968,33.44385026737968,30.954128440366972,31.954128440366972,32.95412844036697,33.95412844036697,34.95412844036697,32.51190476190476,33.51190476190476,34.51190476190476,35.51190476190476,36.51190476190476],\"x\":[1,2,3,4,5,6,7,8,9,10,11,12,13,14,15,16,17,18,19,20,21,22,23,24,25,26,27,28,29,30,31,32,33,34,35,36,37,38,39,40,41,42,43,44,45,46,47,48,49,50,51,52,53,54,55,56,57,58,59,60,61,62,63,64,65,66,67,68,69,70,71,72,73,74,75,76,77,78,79,80,81,82,83,84,85,86,87,88,89,90,91,92,93,94,95,96,97,98,99]},\"selected\":{\"id\":\"7100\"},\"selection_policy\":{\"id\":\"7099\"}},\"id\":\"7084\",\"type\":\"ColumnDataSource\"}],\"root_ids\":[\"7034\"]},\"title\":\"Bokeh Application\",\"version\":\"2.3.3\"}};\n",
       "  var render_items = [{\"docid\":\"8832e0ce-e293-4513-a3b2-73f9ace554e4\",\"root_ids\":[\"7034\"],\"roots\":{\"7034\":\"6560cd6b-6331-40c6-92e8-3158fd49e00a\"}}];\n",
       "  root.Bokeh.embed.embed_items_notebook(docs_json, render_items);\n",
       "\n",
       "  }\n",
       "  if (root.Bokeh !== undefined) {\n",
       "    embed_document(root);\n",
       "  } else {\n",
       "    var attempts = 0;\n",
       "    var timer = setInterval(function(root) {\n",
       "      if (root.Bokeh !== undefined) {\n",
       "        clearInterval(timer);\n",
       "        embed_document(root);\n",
       "      } else {\n",
       "        attempts++;\n",
       "        if (attempts > 100) {\n",
       "          clearInterval(timer);\n",
       "          console.log(\"Bokeh: ERROR: Unable to run BokehJS code because BokehJS library is missing\");\n",
       "        }\n",
       "      }\n",
       "    }, 10, root)\n",
       "  }\n",
       "})(window);"
      ],
      "application/vnd.bokehjs_exec.v0+json": ""
     },
     "metadata": {
      "application/vnd.bokehjs_exec.v0+json": {
       "id": "7034"
      }
     },
     "output_type": "display_data"
    }
   ],
   "source": [
    "plot(avg_way, title='Average number of coins')"
   ]
  },
  {
   "cell_type": "markdown",
   "id": "0e3770a6",
   "metadata": {},
   "source": [
    "Regardless of the math, if one fine morning, you go to Starbucks with the bills in hand, and they return you with four pennies, you will feel the ache of not having two-cents."
   ]
  },
  {
   "cell_type": "markdown",
   "id": "7cfcb8c4",
   "metadata": {},
   "source": [
    "Extra\n",
    "===\n",
    "\n",
    "The next natural question is: what if we have `[1, 3, 7, 10, 30, 70]`-cent coins? What is the most optimal sequence of values?\n",
    "\n",
    "Mathematicans might come up with an elegant solution. Economically speaking, the point is to reduce the coin types while maintaining a reasonable efficiency.\n",
    "\n",
    "So here are a few things to try out:"
   ]
  },
  {
   "cell_type": "code",
   "execution_count": 76,
   "id": "e7f6ef15",
   "metadata": {},
   "outputs": [],
   "source": [
    "# The average of `the minimum numbers of coins needed to pay` every amount from 1 to 99 cents\n",
    "\n",
    "def avg_min(values):\n",
    "    mins = []\n",
    "    for amount in range(1, 100):\n",
    "        solutions = []\n",
    "        cents(values, amount, solutions)\n",
    "        mins.append(min(map(sum, solutions)))\n",
    "    return float(sum(mins)) / len(mins)"
   ]
  },
  {
   "cell_type": "code",
   "execution_count": 75,
   "id": "0ec1f5c0",
   "metadata": {},
   "outputs": [
    {
     "name": "stdout",
     "output_type": "stream",
     "text": [
      "3.4343434343434343\n",
      "3.2525252525252526\n",
      "3.202020202020202\n",
      "4.242424242424242\n",
      "4.242424242424242\n",
      "3.9393939393939394\n",
      "4.646464646464646\n",
      "4.747474747474747\n"
     ]
    }
   ],
   "source": [
    "print(avg_min([50, 20, 10, 5, 2, 1]))\n",
    "print(avg_min([60, 30, 10, 6, 3, 1]))\n",
    "print(avg_min([65, 30, 10, 7, 3, 1]))\n",
    "\n",
    "print(avg_min([50, 25, 10, 5, 1]))\n",
    "print(avg_min([50, 25, 5, 3, 1]))\n",
    "print(avg_min([50, 30, 5, 3, 1]))\n",
    "\n",
    "print(avg_min([50, 20, 5, 1]))\n",
    "print(avg_min([50, 30, 5, 1]))"
   ]
  },
  {
   "cell_type": "markdown",
   "id": "09012737",
   "metadata": {},
   "source": [
    "Among the 6-coins options, `[6, 3, 1]` seems to have a chance to be better than `[5, 2, 1]`, which is the most common scheme. I would prefer `[7, 3, 1]` though, because for 6 cents, you may have 2 3-cent coins, which is economical enough.\n",
    "\n",
    "If your hypothetical kingdom opts for 5-coins scheme, maybe consider `[50, 30, 5, 3, 1]`, which, in average, is more efficient than the US coin scale.\n",
    "\n",
    "For coins alone, I am fully aware that this study came too late. If it was conducted back in the early 1900s, where people were buying loafs of bread with tiny coins, it would've been much more helpful.\n",
    "\n",
    "But let's keep in mind that these findings also apply to the bills..."
   ]
  },
  {
   "cell_type": "markdown",
   "id": "7da7759a",
   "metadata": {},
   "source": [
    "I took the liberty to go ahead and provide a script to run Bayesian Optimization to find the best values for each type of coins. You might need an account at some certain important location to run the following:"
   ]
  },
  {
   "cell_type": "code",
   "execution_count": null,
   "id": "6419b873",
   "metadata": {},
   "outputs": [],
   "source": [
    "# FIX: you will need to change the cents() function to take into account fractional values.\n",
    "# Why? It's fun to have a 5.83758603-cent coin, isn't it?\n",
    "# Funnier if you let it go negative...\n",
    "\n",
    "def evaluate_model(params):\n",
    "    vals = sorted([params['x1'], params['x2'], params['x3'], params['x4']], reverse=True)\n",
    "    cnts = 0\n",
    "    sums = 0.\n",
    "    print('Evaluating {}'.format(vals))\n",
    "    for i in range(1, 100):\n",
    "        s = []\n",
    "        cents(vals, i, s)\n",
    "        if len(s) > 0:\n",
    "            counts = [sum(a) for a in s]\n",
    "            sums += min(counts)\n",
    "            cnts += 1\n",
    "    if cnts < 99:\n",
    "        print('Infeasible set of values: {}'.format(vals))\n",
    "        return 10E6   # math.inf\n",
    "    return sums / cnts\n",
    "\n",
    "\n",
    "def optimize():\n",
    "    import sigopt\n",
    "\n",
    "    sigopt.set_project(\"cents\")\n",
    "\n",
    "    experiment = sigopt.create_experiment(\n",
    "        name='Coins Optimization',\n",
    "        parameters=[\n",
    "            dict(name='x1', type='double', bounds=dict(min=0.00001, max=99.99999)),\n",
    "            dict(name='x2', type='double', bounds=dict(min=0.00001, max=99.99999)),\n",
    "            dict(name='x3', type='double', bounds=dict(min=0.00001, max=99.99999)),\n",
    "            dict(name='x4', type='double', bounds=dict(min=0.00001, max=99.99999)),\n",
    "        ],\n",
    "        metrics=[dict(name='avg_minimum_required', objective='minimize')],\n",
    "        parallel_bandwidth=1,\n",
    "        # Define a budget for your experiment\n",
    "        budget=100,\n",
    "    )\n",
    "    print(\"Created experiment: https://app.sigopt.com/experiment/\" + experiment.id)\n",
    "\n",
    "    for run in experiment.loop():\n",
    "        with run:\n",
    "            value = evaluate_model(run.params)\n",
    "            run.log_metric(\"avg_minimum_required\", value)\n",
    "\n",
    "    # Fetch the best configuration and explore your experiment\n",
    "    best_run = next(experiment.get_best_runs())\n",
    "    best_assignments = best_run.assignments\n",
    "    print(\"Best Assignments: \" + str(best_assignments))\n",
    "    print(\"Explore your experiment: https://app.sigopt.com/experiment/\" + experiment.id + \"/analysis\")\n",
    "\n",
    "\n",
    "if __name__ == '__main__':\n",
    "    optimize()"
   ]
  },
  {
   "cell_type": "markdown",
   "id": "71381dd1",
   "metadata": {},
   "source": [
    "Little disclaimer\n",
    "---\n",
    "\n",
    "Although I'm unemployed, these findings are in no way politically biased. Unless the tools I am using, which include a compiler, a browser, and all the turtles all the way down, are politically biased, these findings are neutral.\n"
   ]
  },
  {
   "cell_type": "code",
   "execution_count": null,
   "id": "0c05c3ec",
   "metadata": {},
   "outputs": [],
   "source": []
  }
 ],
 "metadata": {
  "kernelspec": {
   "display_name": "Python 3",
   "language": "python",
   "name": "python3"
  },
  "language_info": {
   "codemirror_mode": {
    "name": "ipython",
    "version": 3
   },
   "file_extension": ".py",
   "mimetype": "text/x-python",
   "name": "python",
   "nbconvert_exporter": "python",
   "pygments_lexer": "ipython3",
   "version": "3.6.12"
  }
 },
 "nbformat": 4,
 "nbformat_minor": 5
}
